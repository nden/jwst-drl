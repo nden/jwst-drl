{
 "cells": [
  {
   "cell_type": "markdown",
   "metadata": {},
   "source": [
    "First import the things that we need from the pipeline code"
   ]
  },
  {
   "cell_type": "code",
   "execution_count": 1,
   "metadata": {
    "collapsed": true
   },
   "outputs": [],
   "source": [
    "import numpy as np\n",
    "import pdb as pdb\n",
    "from astropy.modeling import models\n",
    "from asdf import AsdfFile\n",
    "from jwst import datamodels\n",
    "from jwst.assign_wcs import miri"
   ]
  },
  {
   "cell_type": "markdown",
   "metadata": {},
   "source": [
    "Import my MRS tools"
   ]
  },
  {
   "cell_type": "code",
   "execution_count": 2,
   "metadata": {
    "collapsed": true
   },
   "outputs": [],
   "source": [
    "import mmrs_tools as mmrs_tools"
   ]
  },
  {
   "cell_type": "code",
   "execution_count": 3,
   "metadata": {
    "collapsed": true
   },
   "outputs": [],
   "source": [
    "import mmrs_createwcsfiles_cdp6 as mmrs_createwcsfiles_cdp6"
   ]
  },
  {
   "cell_type": "markdown",
   "metadata": {},
   "source": [
    "Make new CDP-6 reference file for all channels and test them.  If no problems are found"
   ]
  },
  {
   "cell_type": "code",
   "execution_count": 4,
   "metadata": {},
   "outputs": [
    {
     "name": "stdout",
     "output_type": "stream",
     "text": [
      "Working on: 12A\n",
      "Testing: 12A\n",
      "Done testing: 12A\n",
      "Working on: 12B\n",
      "Testing: 12B\n",
      "Done testing: 12B\n",
      "Working on: 12C\n",
      "Testing: 12C\n",
      "Done testing: 12C\n",
      "Working on: 34A\n",
      "Testing: 34A\n",
      "Done testing: 34A\n",
      "Working on: 34B\n",
      "Testing: 34B\n",
      "Done testing: 34B\n",
      "Working on: 34C\n",
      "Testing: 34C\n",
      "Done testing: 34C\n"
     ]
    }
   ],
   "source": [
    "mmrs_createwcsfiles_cdp6.create_cdp6_all('./out/')"
   ]
  }
 ],
 "metadata": {
  "kernelspec": {
   "display_name": "Python 2",
   "language": "python",
   "name": "python2"
  },
  "language_info": {
   "codemirror_mode": {
    "name": "ipython",
    "version": 2
   },
   "file_extension": ".py",
   "mimetype": "text/x-python",
   "name": "python",
   "nbconvert_exporter": "python",
   "pygments_lexer": "ipython2",
   "version": "2.7.13"
  }
 },
 "nbformat": 4,
 "nbformat_minor": 2
}
