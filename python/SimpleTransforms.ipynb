{
 "cells": [
  {
   "cell_type": "markdown",
   "metadata": {},
   "source": [
    "A simple notebook to do MIRI coordinate transforms.\n",
    "This requires that the JWST pipeline be installed."
   ]
  },
  {
   "cell_type": "code",
   "execution_count": 1,
   "metadata": {},
   "outputs": [],
   "source": [
    "import numpy as np\n",
    "import pdb as pdb\n",
    "from astropy.modeling import models\n",
    "from asdf import AsdfFile\n",
    "from jwst import datamodels\n",
    "from jwst.assign_wcs import miri"
   ]
  },
  {
   "cell_type": "markdown",
   "metadata": {},
   "source": [
    "Imager transforms: import the mirim tools code"
   ]
  },
  {
   "cell_type": "code",
   "execution_count": 2,
   "metadata": {
    "collapsed": true
   },
   "outputs": [],
   "source": [
    "import mirim_tools as mirim_tools"
   ]
  },
  {
   "cell_type": "markdown",
   "metadata": {},
   "source": [
    "Define the transform from imager x,y pixel coordinate\n",
    "to V2,V3 coordinates for a given filter.  Pixel coordinates are 0-indexed,\n",
    "where (0,0) is the center of the bottom left detector pixel.  (I.e., (4,0) \n",
    "is the center of the bottom left science pixel).\n",
    "Use F770W which defines the boresight."
   ]
  },
  {
   "cell_type": "code",
   "execution_count": 3,
   "metadata": {
    "collapsed": true
   },
   "outputs": [],
   "source": [
    "xform=mirim_tools.xytov2v3('F770W')"
   ]
  },
  {
   "cell_type": "markdown",
   "metadata": {},
   "source": [
    "Do a forward transform, in this case for the reference location (where the\n",
    "telescope would point in absence of a dither offset).  It should give V2,V3=-453.363,-374.069 arcsec"
   ]
  },
  {
   "cell_type": "code",
   "execution_count": 4,
   "metadata": {
    "collapsed": true
   },
   "outputs": [],
   "source": [
    "x,y=692.5,511.5"
   ]
  },
  {
   "cell_type": "code",
   "execution_count": 5,
   "metadata": {
    "collapsed": true
   },
   "outputs": [],
   "source": [
    "v2,v3=xform(x,y)"
   ]
  },
  {
   "cell_type": "code",
   "execution_count": 6,
   "metadata": {},
   "outputs": [
    {
     "name": "stdout",
     "output_type": "stream",
     "text": [
      "(-453.3633633490669, -374.0686305853809)\n"
     ]
    }
   ],
   "source": [
    "print(v2,v3)"
   ]
  },
  {
   "cell_type": "markdown",
   "metadata": {},
   "source": [
    "Do a reverse transform"
   ]
  },
  {
   "cell_type": "code",
   "execution_count": 7,
   "metadata": {},
   "outputs": [],
   "source": [
    "x_back,y_back=xform.inverse(v2,v3)"
   ]
  },
  {
   "cell_type": "code",
   "execution_count": 8,
   "metadata": {},
   "outputs": [
    {
     "name": "stdout",
     "output_type": "stream",
     "text": [
      "(692.496064329321, 511.4999501761038)\n"
     ]
    }
   ],
   "source": [
    "print(x_back,y_back)"
   ]
  },
  {
   "cell_type": "code",
   "execution_count": null,
   "metadata": {
    "collapsed": true
   },
   "outputs": [],
   "source": []
  },
  {
   "cell_type": "code",
   "execution_count": null,
   "metadata": {
    "collapsed": true
   },
   "outputs": [],
   "source": []
  },
  {
   "cell_type": "markdown",
   "metadata": {},
   "source": [
    "Now we'll do an MRS transform.  Import the mirimrs tools code"
   ]
  },
  {
   "cell_type": "code",
   "execution_count": 9,
   "metadata": {
    "collapsed": true
   },
   "outputs": [],
   "source": [
    "import mmrs_tools as mmrs_tools"
   ]
  },
  {
   "cell_type": "markdown",
   "metadata": {},
   "source": [
    "Define the transform from MRS detector x,y pixel coordinates to local alpha,beta,lambda coordinates.\n",
    "Pixel coordinates are 0-indexed, where (0,0) is the center of the bottom left detector pixel.\n",
    "We'll do the transform for Ch 1A."
   ]
  },
  {
   "cell_type": "code",
   "execution_count": 10,
   "metadata": {
    "collapsed": true
   },
   "outputs": [],
   "source": [
    "xytoabl=mmrs_tools.xytoabl('1A')"
   ]
  },
  {
   "cell_type": "markdown",
   "metadata": {},
   "source": [
    "Do a forward transform, in this case for the MRS reference location (where the telescope points in absence of a dither offset).  It should give V2,V3=-503.654,-318.742"
   ]
  },
  {
   "cell_type": "code",
   "execution_count": 11,
   "metadata": {
    "collapsed": true
   },
   "outputs": [],
   "source": [
    "x,y=27.31,511.0"
   ]
  },
  {
   "cell_type": "code",
   "execution_count": 12,
   "metadata": {
    "collapsed": true
   },
   "outputs": [],
   "source": [
    "a,b,l=xytoabl(x,y)"
   ]
  },
  {
   "cell_type": "code",
   "execution_count": 13,
   "metadata": {},
   "outputs": [
    {
     "name": "stdout",
     "output_type": "stream",
     "text": [
      "(-8.209223011187983e-05, 0.0, 5.344367253905783)\n"
     ]
    }
   ],
   "source": [
    "print(a,b,l)"
   ]
  },
  {
   "cell_type": "markdown",
   "metadata": {},
   "source": [
    "Now do the transform from local alpha,beta coordinates to V2,V3"
   ]
  },
  {
   "cell_type": "code",
   "execution_count": 14,
   "metadata": {
    "collapsed": true
   },
   "outputs": [],
   "source": [
    "abtov2v3=mmrs_tools.abtov2v3('1A')"
   ]
  },
  {
   "cell_type": "code",
   "execution_count": 15,
   "metadata": {},
   "outputs": [],
   "source": [
    "v2,v3=abtov2v3(a,b)"
   ]
  },
  {
   "cell_type": "code",
   "execution_count": 16,
   "metadata": {},
   "outputs": [
    {
     "name": "stdout",
     "output_type": "stream",
     "text": [
      "(-503.6545531500044, -318.74243867549205)\n"
     ]
    }
   ],
   "source": [
    "print(v2,v3)"
   ]
  },
  {
   "cell_type": "markdown",
   "metadata": {},
   "source": [
    "Now do reverse MRS transforms"
   ]
  },
  {
   "cell_type": "code",
   "execution_count": 17,
   "metadata": {
    "collapsed": true
   },
   "outputs": [],
   "source": [
    "a_back,b_back=abtov2v3.inverse(v2,v3)"
   ]
  },
  {
   "cell_type": "code",
   "execution_count": 18,
   "metadata": {},
   "outputs": [
    {
     "name": "stdout",
     "output_type": "stream",
     "text": [
      "(0.00015184635690346227, 0.0003153709700143281)\n"
     ]
    }
   ],
   "source": [
    "print(a_back,b_back)"
   ]
  },
  {
   "cell_type": "code",
   "execution_count": 19,
   "metadata": {
    "collapsed": true
   },
   "outputs": [],
   "source": [
    "x_back,y_back=xytoabl.inverse(a_back,b_back,l)"
   ]
  },
  {
   "cell_type": "code",
   "execution_count": 20,
   "metadata": {},
   "outputs": [
    {
     "name": "stdout",
     "output_type": "stream",
     "text": [
      "(27.31146890194275, 510.9989221257771)\n"
     ]
    }
   ],
   "source": [
    "print(x_back,y_back)"
   ]
  }
 ],
 "metadata": {
  "kernelspec": {
   "display_name": "Python 2",
   "language": "python",
   "name": "python2"
  },
  "language_info": {
   "codemirror_mode": {
    "name": "ipython",
    "version": 2
   },
   "file_extension": ".py",
   "mimetype": "text/x-python",
   "name": "python",
   "nbconvert_exporter": "python",
   "pygments_lexer": "ipython2",
   "version": "2.7.13"
  }
 },
 "nbformat": 4,
 "nbformat_minor": 2
}
